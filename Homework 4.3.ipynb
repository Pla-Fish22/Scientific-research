{
 "cells": [
  {
   "cell_type": "code",
   "execution_count": 1,
   "id": "ca05221f",
   "metadata": {},
   "outputs": [],
   "source": [
    "import numpy as np\n",
    "import matplotlib.pyplot as plt"
   ]
  },
  {
   "cell_type": "code",
   "execution_count": 2,
   "id": "3bc3d16b",
   "metadata": {},
   "outputs": [],
   "source": [
    "people = np.zeros(100000)\n",
    "\n",
    "def generate(n):\n",
    "    people = np.zeros(n)\n",
    "    for i in range(len(people)):\n",
    "        prob = np.random.randint(100)\n",
    "        if prob <= 0.01:\n",
    "            people[i] = 1\n",
    "        else:\n",
    "            continue \n",
    "    return sum(people)\n",
    "    "
   ]
  },
  {
   "cell_type": "code",
   "execution_count": 39,
   "id": "f56cfb80",
   "metadata": {},
   "outputs": [],
   "source": [
    "oneKPeople = [(generate(1000) / 1000)*100 for i in range(50)]\n",
    "tenKPeople = [(generate(10000) / 10000)*100 for i in range(50)]\n",
    "hundredKPeople = [(generate(100000) / 100000)*100 for i in range(50)]"
   ]
  },
  {
   "cell_type": "code",
   "execution_count": 40,
   "id": "0a24f0b2",
   "metadata": {},
   "outputs": [
    {
     "data": {
      "image/png": "[encoded data removed]",
      "text/plain": [
       "<Figure size 432x288 with 1 Axes>"
      ]
     },
     "metadata": {
      "needs_background": "light"
     },
     "output_type": "display_data"
    }
   ],
   "source": [
    "plt.hist(oneKPeople, bins = 100,color = \"orange\", label = \"1k\")\n",
    "plt.hist(tenKPeople, bins = 100,color = 'green', label = \"10k\")\n",
    "plt.hist(hundredKPeople,bins = 100, color = 'blue', label = \"100k\")\n",
    "plt.legend()\n",
    "plt.show()"
   ]
  },
  {
   "cell_type": "code",
   "execution_count": 41,
   "id": "673f5562",
   "metadata": {},
   "outputs": [
    {
     "name": "stdout",
     "output_type": "stream",
     "text": [
      "mean 0.9619999999999999\n",
      "median 0.8999999999999999\n",
      "mode 1.6\n",
      "min 0.3\n"
     ]
    }
   ],
   "source": [
    "print(\"mean \" + str(np.mean(oneKPeople)))\n",
    "print(\"median \" + str(np.median(oneKPeople)))\n",
    "print(\"mode \" + str(max(oneKPeople)))\n",
    "print(\"min \" + str(min(oneKPeople)))"
   ]
  },
  {
   "cell_type": "code",
   "execution_count": 42,
   "id": "f90c18fc",
   "metadata": {},
   "outputs": [
    {
     "name": "stdout",
     "output_type": "stream",
     "text": [
      "mean 1.0214\n",
      "median 1.025\n",
      "mode 1.34\n",
      "min 0.8200000000000001\n"
     ]
    }
   ],
   "source": [
    "print(\"mean \" + str(np.mean(tenKPeople)))\n",
    "print(\"median \" + str(np.median(tenKPeople)))\n",
    "print(\"mode \" + str(max(tenKPeople)))\n",
    "print(\"min \" + str(min(tenKPeople)))"
   ]
  },
  {
   "cell_type": "code",
   "execution_count": 43,
   "id": "904db247",
   "metadata": {},
   "outputs": [
    {
     "name": "stdout",
     "output_type": "stream",
     "text": [
      "mean 1.00326\n",
      "median 1.001\n",
      "mode 1.068\n",
      "min 0.9570000000000001\n"
     ]
    }
   ],
   "source": [
    "print(\"mean \" + str(np.mean(hundredKPeople)))\n",
    "print(\"median \" + str(np.median(hundredKPeople)))\n",
    "print(\"mode \" + str(max(hundredKPeople)))\n",
    "print(\"min \" + str(min(hundredKPeople)))"
   ]
  },
  {
   "cell_type": "code",
   "execution_count": null,
   "id": "48f874fc",
   "metadata": {},
   "outputs": [],
   "source": []
  }
 ],
 "metadata": {
  "kernelspec": {
   "display_name": "Python 3 (ipykernel)",
   "language": "python",
   "name": "python3"
  },
  "language_info": {
   "codemirror_mode": {
    "name": "ipython",
    "version": 3
   },
   "file_extension": ".py",
   "mimetype": "text/x-python",
   "name": "python",
   "nbconvert_exporter": "python",
   "pygments_lexer": "ipython3",
   "version": "3.9.7"
  }
 },
 "nbformat": 4,
 "nbformat_minor": 5
}
