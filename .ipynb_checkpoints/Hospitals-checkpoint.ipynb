{
 "cells": [
  {
   "cell_type": "code",
   "execution_count": 20,
   "id": "d67e342c",
   "metadata": {},
   "outputs": [],
   "source": [
    "import numpy as np \n",
    "import matplotlib.pyplot as plt"
   ]
  },
  {
   "cell_type": "code",
   "execution_count": 26,
   "id": "c0b73ec8",
   "metadata": {},
   "outputs": [],
   "source": [
    "def hospitalA():\n",
    "    return [np.random.choice([1, 0]) for i in range(15)] #boy = 1\n",
    "def hospitalB():\n",
    "    return [np.random.choice([1, 0]) for i in range(45)] \n",
    "def thousandDays(hospital, numOfBabies):\n",
    "    c = 0\n",
    "    for i in range(1000):\n",
    "        if np.sum(hospital()) / numOfBabies >= 0.6:\n",
    "            c += 1\n",
    "    return c\n",
    "            \n",
    "        "
   ]
  },
  {
   "cell_type": "code",
   "execution_count": 37,
   "id": "5392821a",
   "metadata": {},
   "outputs": [],
   "source": [
    "A = [thousandDays(hospitalA, 15) for i in range (4)]\n",
    "B = [thousandDays(hospitalB, 45) for i in range (4)]"
   ]
  },
  {
   "cell_type": "code",
   "execution_count": 38,
   "id": "3bbddda3",
   "metadata": {},
   "outputs": [
    {
     "data": {
      "image/png": "[encoded data removed]",
      "text/plain": [
       "<Figure size 432x288 with 1 Axes>"
      ]
     },
     "metadata": {
      "needs_background": "light"
     },
     "output_type": "display_data"
    }
   ],
   "source": [
    "plt.hist(A, color = 'blue')\n",
    "plt.hist(B, color='red')\n",
    "plt.show()"
   ]
  },
  {
   "cell_type": "code",
   "execution_count": 39,
   "id": "0821e9ef",
   "metadata": {},
   "outputs": [
    {
     "data": {
      "text/plain": [
       "[302, 288, 302, 316]"
      ]
     },
     "execution_count": 39,
     "metadata": {},
     "output_type": "execute_result"
    }
   ],
   "source": [
    "A"
   ]
  },
  {
   "cell_type": "code",
   "execution_count": 40,
   "id": "033cb02e",
   "metadata": {},
   "outputs": [
    {
     "data": {
      "text/plain": [
       "[106, 117, 122, 104]"
      ]
     },
     "execution_count": 40,
     "metadata": {},
     "output_type": "execute_result"
    }
   ],
   "source": [
    "B"
   ]
  },
  {
   "cell_type": "code",
   "execution_count": 41,
   "id": "43a4c5c4",
   "metadata": {},
   "outputs": [],
   "source": [
    "#I believe C with more babies it will produce less babies\n",
    "def hospitalC():\n",
    "    return [np.random.choice([1, 0]) for i in range(100)] \n"
   ]
  },
  {
   "cell_type": "code",
   "execution_count": 42,
   "id": "41071e49",
   "metadata": {},
   "outputs": [],
   "source": [
    "C = [thousandDays(hospitalC, 100) for i in range (4)]"
   ]
  },
  {
   "cell_type": "code",
   "execution_count": 43,
   "id": "1f512ff2",
   "metadata": {},
   "outputs": [
    {
     "data": {
      "image/png": "[encoded data removed]",
      "text/plain": [
       "<Figure size 432x288 with 1 Axes>"
      ]
     },
     "metadata": {
      "needs_background": "light"
     },
     "output_type": "display_data"
    }
   ],
   "source": [
    "plt.hist(A, color = 'blue')\n",
    "plt.hist(B, color='red')\n",
    "plt.hist(C, color = 'green')\n",
    "plt.show()"
   ]
  },
  {
   "cell_type": "code",
   "execution_count": null,
   "id": "1f598c91",
   "metadata": {},
   "outputs": [],
   "source": [
    "#my guess it correct?!"
   ]
  }
 ],
 "metadata": {
  "kernelspec": {
   "display_name": "Python 3 (ipykernel)",
   "language": "python",
   "name": "python3"
  },
  "language_info": {
   "codemirror_mode": {
    "name": "ipython",
    "version": 3
   },
   "file_extension": ".py",
   "mimetype": "text/x-python",
   "name": "python",
   "nbconvert_exporter": "python",
   "pygments_lexer": "ipython3",
   "version": "3.9.7"
  }
 },
 "nbformat": 4,
 "nbformat_minor": 5
}
